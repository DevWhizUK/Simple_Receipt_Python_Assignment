{
 "cells": [
  {
   "cell_type": "code",
   "execution_count": 1,
   "id": "19a5d244-e175-422b-b079-053066d00154",
   "metadata": {},
   "outputs": [],
   "source": [
    "# Import libraries\n",
    "import datetime\n",
    "from tabulate import tabulate"
   ]
  },
  {
   "cell_type": "code",
   "execution_count": 2,
   "id": "91efc6ff-5162-4db8-988f-2b7697ab3ead",
   "metadata": {},
   "outputs": [],
   "source": [
    "# Create pricing data variables in nested dictionary\n",
    "pricing = {\n",
    "    'Ladies': {\n",
    "        'Standard': {\n",
    "            'Dress': 8.00,\n",
    "            '2 PC Suit': 12.00,\n",
    "            'Jacket': 7.50,\n",
    "            'Shirt': 6.50,\n",
    "            'Blouse': 6.50\n",
    "        },\n",
    "        'Specialist': {\n",
    "            'Dress': 11.20,\n",
    "            'Eve Dress': 21.00,\n",
    "            '2 PC Suit': 16.80,\n",
    "            'Jacket': 9.10,\n",
    "            'Shirt': 9.10,\n",
    "            'Blouse': 9.10\n",
    "        }\n",
    "    },\n",
    "    'Gentlemen': {\n",
    "        'Standard': {\n",
    "            '2 PC Suit': 12.00,\n",
    "            'Jacket': 7.50,\n",
    "            'Trousers': 6.50,\n",
    "            'Shirt': 6.50,\n",
    "            'Coat': 9.95\n",
    "        },\n",
    "        'Specialist': {\n",
    "            '2 PC Suit': 16.80,\n",
    "            'Jacket': 10.50,\n",
    "            'Trousers': 9.10,\n",
    "            'Shirt': 9.10,\n",
    "            'Coat': 13.93\n",
    "        }\n",
    "    }\n",
    "}       "
   ]
  },
  {
   "cell_type": "code",
   "execution_count": 3,
   "id": "ae872156-0d46-44c5-ba6f-2c705c6cadcd",
   "metadata": {},
   "outputs": [],
   "source": [
    "# VAT at 20%\n",
    "VAT_RATE = 0.20"
   ]
  },
  {
   "cell_type": "code",
   "execution_count": 4,
   "id": "cbb5bae5-44c2-4d53-9491-b9fd665c8b06",
   "metadata": {},
   "outputs": [],
   "source": [
    "# Calculate amount of discount (If Applicable)\n",
    "def calculate_discount(total):\n",
    "    if total > 30:\n",
    "        return 0.15 # 15% Discount on orders over £30\n",
    "    elif total > 15:\n",
    "        return 0.10 # 10% Discount on orders over £15\n",
    "    else:\n",
    "        return 0 # No discount"
   ]
  },
  {
   "cell_type": "code",
   "execution_count": 5,
   "id": "069e3f4b-926c-4b11-be4e-444815d31d9c",
   "metadata": {},
   "outputs": [],
   "source": [
    "# Normalize Currency\n",
    "def format_currency(value):\n",
    "    return f\"£{value: .2f}\""
   ]
  },
  {
   "cell_type": "code",
   "execution_count": 6,
   "id": "df2265fd-5f64-443a-abaf-5ab63499e418",
   "metadata": {},
   "outputs": [],
   "source": [
    "# Create tag and code with datetime\n",
    "def generate_tag(date_time, service_type):\n",
    "    return date_time.strftime('%d%m%Y%H%M') + '-' + ('st' if service_type == 'Standard' else 'sp')"
   ]
  },
  {
   "cell_type": "code",
   "execution_count": 7,
   "id": "c43d6eb2-98aa-44a3-8831-f331ac132f64",
   "metadata": {},
   "outputs": [],
   "source": [
    "# Display the menu\n",
    "def display_menu():\n",
    "    print(\"Welcome to Chi Cleaners Point of Sale System\")\n",
    "    print(\"===========================================\")\n",
    "    print(\"Price List\")\n",
    "    print(\"===========================================\")\n",
    "    for category, services in pricing.items():\n",
    "        print(f\"\\n{category} Services\")\n",
    "        print(\"-\" * (len(category) + 9))\n",
    "        table = []\n",
    "        headers = [\"Item\", \"Standard Price\", \"Specialist Price\"]\n",
    "        items = set(pricing[category]['Standard'].keys()).union(pricing[category]['Specialist'].keys())\n",
    "        for item in items:\n",
    "            standard_price = pricing[category]['Standard'].get(item, \"-\")\n",
    "            specialist_price = pricing[category]['Specialist'].get(item, \"-\")\n",
    "            table.append([item, format_currency(standard_price) if isinstance(standard_price, float) else \"-\", \n",
    "                                 format_currency(specialist_price) if isinstance(specialist_price, float) else \"-\"])\n",
    "        print(tabulate(table, headers, tablefmt=\"grid\"))\n",
    "    print(\"===========================================\\n\")"
   ]
  },
  {
   "cell_type": "code",
   "execution_count": 8,
   "id": "0eec8460-11f4-49a5-9746-d1a8fda2695b",
   "metadata": {},
   "outputs": [],
   "source": [
    "# Function to add item to order\n",
    "def add_item_to_order(customer_items):\n",
    "    print(\"Select Category:\")\n",
    "    print(\"1. Ladies\")\n",
    "    print(\"2. Gentlemen\")\n",
    "    category_choice = input(\"Enter choice (1/2): \")\n",
    "    category = 'Ladies' if category_choice == '1' else 'Gentlemen'\n",
    "    \n",
    "    print(\"Select Service Type:\")\n",
    "    print(\"1. Standard\")\n",
    "    print(\"2. Specialist\")\n",
    "    service_choice = input(\"Enter choice (1/2): \")\n",
    "    service_type = 'Standard' if service_choice == '1' else 'Specialist'\n",
    "    \n",
    "    print(\"Select Item:\")\n",
    "    items = list(pricing[category][service_type].keys())\n",
    "    for i, item in enumerate(items, 1):\n",
    "        print(f\"{i}. {item}\")\n",
    "    item_choice = int(input(\"Enter choice: \")) - 1\n",
    "    item_name = items[item_choice]\n",
    "    item_price = pricing[category][service_type][item_name]\n",
    "    \n",
    "    customer_items.append((category, service_type, item_name, item_price))\n",
    "    \n",
    "    print(f\"Added {item_name} ({category} - {service_type}) - {format_currency(item_price)} to order.\\n\")"
   ]
  },
  {
   "cell_type": "code",
   "execution_count": 9,
   "id": "e7a037b1-e59a-4b7a-92c5-4890e0bc1f87",
   "metadata": {},
   "outputs": [],
   "source": [
    "# Generate the users receipt\n",
    "def generate_receipt(customer_items):\n",
    "    total_cost = sum(item[3] for item in customer_items)\n",
    "    discount = calculate_discount(total_cost)\n",
    "    discount_amount = total_cost * discount\n",
    "    total_after_discount = total_cost - discount_amount\n",
    "    vat = total_after_discount * VAT_RATE\n",
    "    total_with_vat = total_after_discount + vat\n",
    "    \n",
    "    with open('receipt.txt', 'w') as receipt_file:\n",
    "        receipt_file.write(\"Chi Cleaners Receipt\\n\")\n",
    "        receipt_file.write(\"====================\\n\")\n",
    "        for item in customer_items:\n",
    "            receipt_file.write(f\"{item[2]} ({item[0]} - {item[1]}) - {format_currency(item[3])}\\n\")\n",
    "        receipt_file.write(f\"Total: {format_currency(total_cost)}\\n\")\n",
    "        receipt_file.write(f\"Discount: {discount * 100}% (-{format_currency(discount_amount)})\\n\")\n",
    "        receipt_file.write(f\"Total after discount: {format_currency(total_after_discount)}\\n\")\n",
    "        receipt_file.write(f\"VAT (20%): {format_currency(vat)}\\n\")\n",
    "        receipt_file.write(f\"Total with VAT: {format_currency(total_with_vat)}\\n\")\n",
    "    \n",
    "    print(\"Receipt has been generated and saved to receipt.txt\\n\")"
   ]
  },
  {
   "cell_type": "code",
   "execution_count": 10,
   "id": "0a752a3a-1927-4163-b89e-4ae7d0a61604",
   "metadata": {},
   "outputs": [],
   "source": [
    "# Generate Tags\n",
    "def generate_tags(customer_items):\n",
    "    date_time = datetime.datetime.now()\n",
    "    with open('tag.txt', 'w') as tag_file:\n",
    "        for item in customer_items:\n",
    "            tag = generate_tag(date_time, item[1])\n",
    "            tag_file.write(f\"Item: {item[2]}, Service: {item[1]}, Tag: {tag}\\n\")\n",
    "    \n",
    "    print(\"Tags have been generated and saved to tag.txt\\n\")"
   ]
  },
  {
   "cell_type": "code",
   "execution_count": 11,
   "id": "12acfb40-11ea-4dd2-9d94-ae98f2e6da93",
   "metadata": {},
   "outputs": [],
   "source": [
    "# Main loop (keeping track of customer items)\n",
    "def main():\n",
    "    customer_items = []\n",
    "    \n",
    "    display_menu()\n",
    "    \n",
    "    while True:\n",
    "        add_item_to_order(customer_items)\n",
    "        more_items = input(\"Add more items? (yes/no): \")\n",
    "        if more_items.lower() != 'yes':\n",
    "            break\n",
    "    \n",
    "    generate_receipt(customer_items)\n",
    "    generate_tags(customer_items)\n",
    "    print(\"Process completed. Check receipt.txt and tag.txt for details.\")"
   ]
  },
  {
   "cell_type": "code",
   "execution_count": null,
   "id": "bc6e0f85-4574-4bc4-958e-95f278e4ff98",
   "metadata": {},
   "outputs": [
    {
     "name": "stdout",
     "output_type": "stream",
     "text": [
      "Welcome to Chi Cleaners Point of Sale System\n",
      "===========================================\n",
      "Price List\n",
      "===========================================\n",
      "\n",
      "Ladies Services\n",
      "---------------\n",
      "+-----------+------------------+--------------------+\n",
      "| Item      | Standard Price   | Specialist Price   |\n",
      "+===========+==================+====================+\n",
      "| Shirt     | £ 6.50           | £ 9.10             |\n",
      "+-----------+------------------+--------------------+\n",
      "| Jacket    | £ 7.50           | £ 9.10             |\n",
      "+-----------+------------------+--------------------+\n",
      "| 2 PC Suit | £ 12.00          | £ 16.80            |\n",
      "+-----------+------------------+--------------------+\n",
      "| Dress     | £ 8.00           | £ 11.20            |\n",
      "+-----------+------------------+--------------------+\n",
      "| Blouse    | £ 6.50           | £ 9.10             |\n",
      "+-----------+------------------+--------------------+\n",
      "| Eve Dress | -                | £ 21.00            |\n",
      "+-----------+------------------+--------------------+\n",
      "\n",
      "Gentlemen Services\n",
      "------------------\n",
      "+-----------+------------------+--------------------+\n",
      "| Item      | Standard Price   | Specialist Price   |\n",
      "+===========+==================+====================+\n",
      "| Shirt     | £ 6.50           | £ 9.10             |\n",
      "+-----------+------------------+--------------------+\n",
      "| Jacket    | £ 7.50           | £ 10.50            |\n",
      "+-----------+------------------+--------------------+\n",
      "| 2 PC Suit | £ 12.00          | £ 16.80            |\n",
      "+-----------+------------------+--------------------+\n",
      "| Trousers  | £ 6.50           | £ 9.10             |\n",
      "+-----------+------------------+--------------------+\n",
      "| Coat      | £ 9.95           | £ 13.93            |\n",
      "+-----------+------------------+--------------------+\n",
      "===========================================\n",
      "\n",
      "Select Category:\n",
      "1. Ladies\n",
      "2. Gentlemen\n"
     ]
    }
   ],
   "source": [
    "# Main\n",
    "if __name__ == \"__main__\":\n",
    "    main()"
   ]
  }
 ],
 "metadata": {
  "kernelspec": {
   "display_name": "Python 3 (ipykernel)",
   "language": "python",
   "name": "python3"
  },
  "language_info": {
   "codemirror_mode": {
    "name": "ipython",
    "version": 3
   },
   "file_extension": ".py",
   "mimetype": "text/x-python",
   "name": "python",
   "nbconvert_exporter": "python",
   "pygments_lexer": "ipython3",
   "version": "3.11.7"
  }
 },
 "nbformat": 4,
 "nbformat_minor": 5
}
